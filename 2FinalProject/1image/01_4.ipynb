{
 "cells": [
  {
   "cell_type": "code",
   "execution_count": 2,
   "metadata": {
    "tags": []
   },
   "outputs": [
    {
     "output_type": "stream",
     "name": "stdout",
     "text": "OpenCV version:\n4.3.0\nwidth: 688 pixels\nheight: 960 pixels\nchannels: 3\nPixel at (0, 0) - Red: 126, Green: 107, Blue: 92\n"
    }
   ],
   "source": [
    "import cv2\n",
    "\n",
    "print(\"OpenCV version:\")\n",
    "print(cv2.__version__)\n",
    "\n",
    "img = cv2.imread(\"junho.jpg\")\n",
    "print(\"width: {} pixels\".format(img.shape[1]))\n",
    "print(\"height: {} pixels\".format(img.shape[0]))\n",
    "print(\"channels: {}\".format(img.shape[2]))\n",
    "\n",
    "cv2.imshow(\"junho\", img)\n",
    "\n",
    "(b, g, r) = img[0, 0]\n",
    "print(\"Pixel at (0, 0) - Red: {}, Green: {}, Blue: {}\".format(r,\n",
    "g, b))\n",
    "\n",
    "dot = img[50:100, 50:100]\n",
    "\n",
    "img[50:100, 50:100] = (0, 0, 255)\n",
    "\n",
    "cv2.rectangle(img, (150, 50), (200, 100), (0, 255, 0), 5)\n",
    "\n",
    "cv2.circle(img, (275, 75), 25, (0, 255, 255), -1)\n",
    "\n",
    "cv2.line(img, (350, 100), (400, 100), (255, 0, 0), 5)\n",
    "\n",
    "cv2.putText(img, 'creApple', (450, 100), cv2.FONT_HERSHEY_SIMPLEX, 1, (255, 255, 255), 4)\n",
    "\n",
    "cv2.imshow(\"junho - draw\", img)\n",
    "\n",
    "cv2.waitKey(0)\n",
    "cv2.destroyAllWindows()\n"
   ]
  },
  {
   "cell_type": "code",
   "execution_count": null,
   "metadata": {},
   "outputs": [],
   "source": []
  }
 ],
 "metadata": {
  "language_info": {
   "codemirror_mode": {
    "name": "ipython",
    "version": 3
   },
   "file_extension": ".py",
   "mimetype": "text/x-python",
   "name": "python",
   "nbconvert_exporter": "python",
   "pygments_lexer": "ipython3",
   "version": 3
  },
  "orig_nbformat": 2,
  "kernelspec": {
   "name": "python_defaultSpec_1594866924104",
   "display_name": "Python 3.7.6 64-bit ('base': conda)"
  }
 },
 "nbformat": 4,
 "nbformat_minor": 2
}