{
 "cells": [
  {
   "cell_type": "code",
   "execution_count": 4,
   "metadata": {
    "tags": []
   },
   "outputs": [
    {
     "output_type": "stream",
     "name": "stdout",
     "text": "OpenCV version:\n4.3.0\nwidth: 688 pixels\nheight: 960 pixels\nchannels: 3\n"
    }
   ],
   "source": [
    "import cv2\n",
    "import numpy as np\n",
    "\n",
    "print(\"OpenCV version:\")\n",
    "print(cv2.__version__)\n",
    " \n",
    "img = cv2.imread(\"junho.jpg\")\n",
    "print(\"width: {} pixels\".format(img.shape[1]))\n",
    "print(\"height: {} pixels\".format(img.shape[0]))\n",
    "print(\"channels: {}\".format(img.shape[2]))\n",
    "\n",
    "(height, width) = img.shape[:2]     #0을 height에, 1을 width에 넣어준다. \n",
    "center = (width // 2, height // 2)  #이미지의 높이 넓이 중간값을 알 수 있다. \n",
    " \n",
    "cv2.imshow(\"junho\", img)\n",
    "\n",
    "#1. 이미지 밀어보기\n",
    "move = np.float32([[1, 0, 100], [0, 1, 100]])          #좌표설정\n",
    "                                                       #1, 0 = 좌 우 이동.  양수면 right, 음수면 left로 이동\n",
    "                                                       #0, 1 = 위 아래 이동.양수면 down, 음수면 up로 이동\n",
    "\n",
    "moved = cv2.warpAffine(img, move, (width, height))     #openCV제공 기능. warpAffine => 대상, 좌표, (넓이, 높이)=>움직이는 크기\n",
    "cv2.imshow(\"Moved down: +, up: - and right: +, left - \", moved)\n",
    "\n",
    "#2. 이미지 회전\n",
    "rotate = cv2.getRotationMatrix2D(center, 70, 1.0)      #(중간지점, 각도, 크기값(1이면 그대로 유지))\n",
    "rotated = cv2.warpAffine(img, move, (width, height))\n",
    "cv2.imshow(\"Rotated clockwise degrees\", rotated)\n",
    "\n",
    "#\n",
    "ratio = 200.0 / width\n",
    "dimension = (200, int(height * ratio))\n",
    "\n",
    "resized = cv2.resize(img, dimension     , interpolation = cv2.INTER_AREA)\n",
    "cv2.imshow(\"Resized\", resized)\n",
    "\n",
    "flipped = cv2.flip(img, 1)\n",
    "cv2.imshow(\"Flipped Horizontal 1, Vertical 0, both -1 \", flipped)\n",
    "\n",
    "cv2.waitKey(0)\n",
    "cv2.destroyAllWindows()\n"
   ]
  },
  {
   "cell_type": "code",
   "execution_count": null,
   "metadata": {},
   "outputs": [],
   "source": []
  }
 ],
 "metadata": {
  "language_info": {
   "codemirror_mode": {
    "name": "ipython",
    "version": 3
   },
   "file_extension": ".py",
   "mimetype": "text/x-python",
   "name": "python",
   "nbconvert_exporter": "python",
   "pygments_lexer": "ipython3",
   "version": 3
  },
  "orig_nbformat": 2,
  "kernelspec": {
   "name": "python_defaultSpec_1594867011458",
   "display_name": "Python 3.7.6 64-bit ('base': conda)"
  }
 },
 "nbformat": 4,
 "nbformat_minor": 2
}